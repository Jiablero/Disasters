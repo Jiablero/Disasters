{
  "nbformat": 4,
  "nbformat_minor": 0,
  "metadata": {
    "colab": {
      "name": "Empress_of_Ireland_season1.ipynb",
      "provenance": [],
      "mount_file_id": "1n1Mmu0l8V9i0r1kPuOBS4-L_DpZf1shP",
      "authorship_tag": "ABX9TyM26COZbAQTOIL7h4acn6Ix",
      "include_colab_link": true
    },
    "kernelspec": {
      "name": "python3",
      "display_name": "Python 3"
    }
  },
  "cells": [
    {
      "cell_type": "markdown",
      "metadata": {
        "id": "view-in-github",
        "colab_type": "text"
      },
      "source": [
        "<a href=\"https://colab.research.google.com/github/Jiablero/Disasters/blob/master/Empress_of_Ireland_season1.ipynb\" target=\"_parent\"><img src=\"https://colab.research.google.com/assets/colab-badge.svg\" alt=\"Open In Colab\"/></a>"
      ]
    },
    {
      "cell_type": "markdown",
      "metadata": {
        "id": "lMMfu0YDPKyX",
        "colab_type": "text"
      },
      "source": [
        "Сбор данных по списку пассажиров и команды \"Императрицы Ирландии\", находившихся на борту во время катастрофы 29 января 1904 года.\n",
        "\n",
        "https://ru.wikipedia.org/wiki/Empress_of_Ireland\n",
        "\n",
        "Первоначальные данные взяты отсюда: https://www.liverpoolmuseums.org.uk/empress-of-ireland-disaster\n",
        "\n",
        "В данных по команде вручную был добавлен разделитель между именем и должностью"
      ]
    },
    {
      "cell_type": "code",
      "metadata": {
        "id": "orrQZ9y4K3IT",
        "colab_type": "code",
        "colab": {}
      },
      "source": [
        "import pandas as pd\n",
        "import numpy as np"
      ],
      "execution_count": 24,
      "outputs": []
    },
    {
      "cell_type": "code",
      "metadata": {
        "id": "wTY0a0dOLMcg",
        "colab_type": "code",
        "colab": {}
      },
      "source": [
        "crew = pd.read_csv('/content/drive/My Drive/disasters/emp_ir_crew.txt', sep = ';', index_col = False)"
      ],
      "execution_count": 60,
      "outputs": []
    },
    {
      "cell_type": "code",
      "metadata": {
        "id": "HzScU7XwSWU0",
        "colab_type": "code",
        "colab": {}
      },
      "source": [
        "# * перед именем в изначальных данных обозначает выживших. Во всех таблицах. Сделаем функцию.\n",
        "\n",
        "def ExtractSurvivedData(df, extractfield = 'Name'):\n",
        "  df['Survived'] = df[extractfield].str.extract('^(\\*)')\n",
        "  df[extractfield][df.Survived == '*'] = df[extractfield].str.slice(1)\n",
        "  df.Survived = np.where(df.Survived == '*', 1, 0)\n",
        "  return df\n",
        "\n",
        "# в списках пассажиров надо достать возраст из скобочек. \n",
        "def ExtractAgeData(df, extractfield = 'Name'):\n",
        "  df['Age'] = df[extractfield].str.extract('\\(.*(age\\s*\\d+)')\n",
        "  df.Age = df.Age.str.slice(3) # убираем слово age\n",
        "  df.Age[df.Age.isna()] = -1 # заменяем NA на -1 \n",
        "  df.Age = df.Age.astype(int)\n",
        "  # теперь надо убрать данные о возрасте из той колонки где мы их взяли\n",
        "  df[extractfield] = df[extractfield].str.replace('age\\s*\\d+', '').str.replace('\\(\\s*\\)', '')\n",
        "  return df\n",
        "\n"
      ],
      "execution_count": 116,
      "outputs": []
    },
    {
      "cell_type": "code",
      "metadata": {
        "id": "NNeAjPJyLU4l",
        "colab_type": "code",
        "colab": {}
      },
      "source": [
        "crew = ExtractSurvivedData(crew)\n",
        "crew['Class'] = 'Crew'"
      ],
      "execution_count": 61,
      "outputs": []
    },
    {
      "cell_type": "code",
      "metadata": {
        "id": "PmlhvdEeNgi5",
        "colab_type": "code",
        "colab": {
          "base_uri": "https://localhost:8080/",
          "height": 34
        },
        "outputId": "a59b2978-a088-4527-f0c6-08f2b5f5b71e"
      },
      "source": [
        "print('Выживших:', crew.Survived[crew.Survived == 1].count(), \\\n",
        "      'Погибших:', crew.Survived[crew.Survived == 0].count(), \\\n",
        "      '% выживших:', crew.Survived.mean())"
      ],
      "execution_count": 62,
      "outputs": [
        {
          "output_type": "stream",
          "text": [
            "Выживших: 233 Погибших: 187 % выживших: 0.5547619047619048\n"
          ],
          "name": "stdout"
        }
      ]
    },
    {
      "cell_type": "code",
      "metadata": {
        "id": "gGtXwNjVUI7C",
        "colab_type": "code",
        "colab": {}
      },
      "source": [
        "# у команды возраст не указан. Предположим что в среднем он был около 30, \n",
        "# т.к. в команде только трудоспособные персонажи, наверное от 20 до 50 лет примерно\n",
        "crew['Age'] = 30"
      ],
      "execution_count": 63,
      "outputs": []
    },
    {
      "cell_type": "code",
      "metadata": {
        "id": "JZQLwcNdUvKy",
        "colab_type": "code",
        "colab": {
          "base_uri": "https://localhost:8080/",
          "height": 406
        },
        "outputId": "6656168c-af01-4d43-d042-3ecb9cd4ecad"
      },
      "source": [
        "crew[crew.Survived == 1]"
      ],
      "execution_count": 64,
      "outputs": [
        {
          "output_type": "execute_result",
          "data": {
            "text/html": [
              "<div>\n",
              "<style scoped>\n",
              "    .dataframe tbody tr th:only-of-type {\n",
              "        vertical-align: middle;\n",
              "    }\n",
              "\n",
              "    .dataframe tbody tr th {\n",
              "        vertical-align: top;\n",
              "    }\n",
              "\n",
              "    .dataframe thead th {\n",
              "        text-align: right;\n",
              "    }\n",
              "</style>\n",
              "<table border=\"1\" class=\"dataframe\">\n",
              "  <thead>\n",
              "    <tr style=\"text-align: right;\">\n",
              "      <th></th>\n",
              "      <th>Name</th>\n",
              "      <th>Position</th>\n",
              "      <th>Survived</th>\n",
              "      <th>Class</th>\n",
              "      <th>Age</th>\n",
              "    </tr>\n",
              "  </thead>\n",
              "  <tbody>\n",
              "    <tr>\n",
              "      <th>0</th>\n",
              "      <td>Kendall, Henry George</td>\n",
              "      <td>Master</td>\n",
              "      <td>1</td>\n",
              "      <td>Crew</td>\n",
              "      <td>30</td>\n",
              "    </tr>\n",
              "    <tr>\n",
              "      <th>2</th>\n",
              "      <td>Jones, Edward John</td>\n",
              "      <td>First Officer</td>\n",
              "      <td>1</td>\n",
              "      <td>Crew</td>\n",
              "      <td>30</td>\n",
              "    </tr>\n",
              "    <tr>\n",
              "      <th>4</th>\n",
              "      <td>File, Osmond</td>\n",
              "      <td>Extra Second Officer</td>\n",
              "      <td>1</td>\n",
              "      <td>Crew</td>\n",
              "      <td>30</td>\n",
              "    </tr>\n",
              "    <tr>\n",
              "      <th>7</th>\n",
              "      <td>Ferguson Ronald</td>\n",
              "      <td>Telegraphist</td>\n",
              "      <td>1</td>\n",
              "      <td>Crew</td>\n",
              "      <td>30</td>\n",
              "    </tr>\n",
              "    <tr>\n",
              "      <th>8</th>\n",
              "      <td>Bamford, Edward</td>\n",
              "      <td>Telegraphist</td>\n",
              "      <td>1</td>\n",
              "      <td>Crew</td>\n",
              "      <td>30</td>\n",
              "    </tr>\n",
              "    <tr>\n",
              "      <th>...</th>\n",
              "      <td>...</td>\n",
              "      <td>...</td>\n",
              "      <td>...</td>\n",
              "      <td>...</td>\n",
              "      <td>...</td>\n",
              "    </tr>\n",
              "    <tr>\n",
              "      <th>413</th>\n",
              "      <td>McDonnell, Michael Joseph</td>\n",
              "      <td>Chief Butcher</td>\n",
              "      <td>1</td>\n",
              "      <td>Crew</td>\n",
              "      <td>30</td>\n",
              "    </tr>\n",
              "    <tr>\n",
              "      <th>414</th>\n",
              "      <td>Knight, Robert</td>\n",
              "      <td>Second Butcher</td>\n",
              "      <td>1</td>\n",
              "      <td>Crew</td>\n",
              "      <td>30</td>\n",
              "    </tr>\n",
              "    <tr>\n",
              "      <th>415</th>\n",
              "      <td>Dawson, Alfred</td>\n",
              "      <td>Third Butcher</td>\n",
              "      <td>1</td>\n",
              "      <td>Crew</td>\n",
              "      <td>30</td>\n",
              "    </tr>\n",
              "    <tr>\n",
              "      <th>416</th>\n",
              "      <td>Paterson, John</td>\n",
              "      <td>Fourth Butcher</td>\n",
              "      <td>1</td>\n",
              "      <td>Crew</td>\n",
              "      <td>30</td>\n",
              "    </tr>\n",
              "    <tr>\n",
              "      <th>417</th>\n",
              "      <td>Bishop, Thomas</td>\n",
              "      <td>Assistant Ship’s Cook</td>\n",
              "      <td>1</td>\n",
              "      <td>Crew</td>\n",
              "      <td>30</td>\n",
              "    </tr>\n",
              "  </tbody>\n",
              "</table>\n",
              "<p>233 rows × 5 columns</p>\n",
              "</div>"
            ],
            "text/plain": [
              "                          Name                Position  Survived Class  Age\n",
              "0        Kendall, Henry George                  Master         1  Crew   30\n",
              "2           Jones, Edward John           First Officer         1  Crew   30\n",
              "4                 File, Osmond    Extra Second Officer         1  Crew   30\n",
              "7              Ferguson Ronald            Telegraphist         1  Crew   30\n",
              "8              Bamford, Edward            Telegraphist         1  Crew   30\n",
              "..                         ...                     ...       ...   ...  ...\n",
              "413  McDonnell, Michael Joseph           Chief Butcher         1  Crew   30\n",
              "414             Knight, Robert          Second Butcher         1  Crew   30\n",
              "415             Dawson, Alfred           Third Butcher         1  Crew   30\n",
              "416             Paterson, John          Fourth Butcher         1  Crew   30\n",
              "417             Bishop, Thomas   Assistant Ship’s Cook         1  Crew   30\n",
              "\n",
              "[233 rows x 5 columns]"
            ]
          },
          "metadata": {
            "tags": []
          },
          "execution_count": 64
        }
      ]
    },
    {
      "cell_type": "code",
      "metadata": {
        "id": "oeOiZvojRI2a",
        "colab_type": "code",
        "colab": {}
      },
      "source": [
        "# 1st Class passengers\n",
        "class1 = pd.read_csv('/content/drive/My Drive/disasters/emp_ir_1st.txt', sep = ';', \\\n",
        "                     index_col = False, header=None, names = ['Name'])"
      ],
      "execution_count": 118,
      "outputs": []
    },
    {
      "cell_type": "code",
      "metadata": {
        "id": "WozjsWnZRWce",
        "colab_type": "code",
        "colab": {}
      },
      "source": [
        "class1 = ExtractSurvivedData(class1)\n",
        "class1 = ExtractAgeData(class1)\n",
        "class1['Class'] = '1st Class'\n",
        "class1['Position'] = 'Passenger'"
      ],
      "execution_count": 119,
      "outputs": []
    },
    {
      "cell_type": "code",
      "metadata": {
        "id": "msZ2YKsGTkX_",
        "colab_type": "code",
        "colab": {
          "base_uri": "https://localhost:8080/",
          "height": 34
        },
        "outputId": "f8099b57-3400-4bdf-b86a-d39e34e180c7"
      },
      "source": [
        "print('Выживших:', class1.Survived[class1.Survived == 1].count(), \\\n",
        "      'Погибших:', class1.Survived[class1.Survived == 0].count(), \\\n",
        "      '% выживших:', class1.Survived.mean())"
      ],
      "execution_count": 120,
      "outputs": [
        {
          "output_type": "stream",
          "text": [
            "Выживших: 33 Погибших: 54 % выживших: 0.3793103448275862\n"
          ],
          "name": "stdout"
        }
      ]
    },
    {
      "cell_type": "code",
      "metadata": {
        "id": "sut4Pqi9Tr55",
        "colab_type": "code",
        "colab": {
          "base_uri": "https://localhost:8080/",
          "height": 125
        },
        "outputId": "82e78693-f4dd-4bfd-8f63-9227c08e6018"
      },
      "source": [
        ""
      ],
      "execution_count": 121,
      "outputs": [
        {
          "output_type": "stream",
          "text": [
            "/usr/local/lib/python3.6/dist-packages/ipykernel_launcher.py:13: SettingWithCopyWarning: \n",
            "A value is trying to be set on a copy of a slice from a DataFrame\n",
            "\n",
            "See the caveats in the documentation: https://pandas.pydata.org/pandas-docs/stable/user_guide/indexing.html#returning-a-view-versus-a-copy\n",
            "  del sys.path[0]\n"
          ],
          "name": "stderr"
        }
      ]
    },
    {
      "cell_type": "code",
      "metadata": {
        "id": "Bw0lwS_Za-Hv",
        "colab_type": "code",
        "colab": {}
      },
      "source": [
        "#2nd Class passengers\n",
        "class2 = pd.read_csv('/content/drive/My Drive/disasters/emp_ir_2nd.txt', sep = ';', \\\n",
        "                     index_col = False, header=None, names = ['Name'])"
      ],
      "execution_count": 123,
      "outputs": []
    },
    {
      "cell_type": "code",
      "metadata": {
        "id": "Nmd42t31d52Q",
        "colab_type": "code",
        "colab": {
          "base_uri": "https://localhost:8080/",
          "height": 125
        },
        "outputId": "26b92da2-a827-4ba4-a4b7-a492f4b24ffc"
      },
      "source": [
        "class2 = ExtractSurvivedData(class2)\n",
        "class2 = ExtractAgeData(class2)\n",
        "class2['Class'] = '2nd Class'\n",
        "class2['Position'] = 'Passenger'"
      ],
      "execution_count": 124,
      "outputs": [
        {
          "output_type": "stream",
          "text": [
            "/usr/local/lib/python3.6/dist-packages/ipykernel_launcher.py:13: SettingWithCopyWarning: \n",
            "A value is trying to be set on a copy of a slice from a DataFrame\n",
            "\n",
            "See the caveats in the documentation: https://pandas.pydata.org/pandas-docs/stable/user_guide/indexing.html#returning-a-view-versus-a-copy\n",
            "  del sys.path[0]\n"
          ],
          "name": "stderr"
        }
      ]
    },
    {
      "cell_type": "code",
      "metadata": {
        "id": "IrC28fSpeFwk",
        "colab_type": "code",
        "colab": {
          "base_uri": "https://localhost:8080/",
          "height": 34
        },
        "outputId": "eb3b7354-b234-44dc-8e4b-f4d5af66209c"
      },
      "source": [
        "print('Выживших:', class2.Survived[class2.Survived == 1].count(), \\\n",
        "      'Погибших:', class2.Survived[class2.Survived == 0].count(), \\\n",
        "      '% выживших:', class2.Survived.mean())"
      ],
      "execution_count": 125,
      "outputs": [
        {
          "output_type": "stream",
          "text": [
            "Выживших: 50 Погибших: 205 % выживших: 0.19607843137254902\n"
          ],
          "name": "stdout"
        }
      ]
    },
    {
      "cell_type": "code",
      "metadata": {
        "id": "Zdr3xjcUeNO1",
        "colab_type": "code",
        "colab": {}
      },
      "source": [
        "#3rd Class passengers\n",
        "class3 = pd.read_csv('/content/drive/My Drive/disasters/emp_ir_3d.txt', sep = ';', \\\n",
        "                     index_col = False, header=None, names = ['Name'])"
      ],
      "execution_count": 126,
      "outputs": []
    },
    {
      "cell_type": "code",
      "metadata": {
        "id": "PvOdYWAdeWwH",
        "colab_type": "code",
        "colab": {
          "base_uri": "https://localhost:8080/",
          "height": 125
        },
        "outputId": "00961647-b809-40fa-cfab-6523c58193e3"
      },
      "source": [
        "class3 = ExtractSurvivedData(class3)\n",
        "class3 = ExtractAgeData(class3)\n",
        "class3['Class'] = '3rd Class'\n",
        "class3['Position'] = 'Passenger'"
      ],
      "execution_count": 127,
      "outputs": [
        {
          "output_type": "stream",
          "text": [
            "/usr/local/lib/python3.6/dist-packages/ipykernel_launcher.py:13: SettingWithCopyWarning: \n",
            "A value is trying to be set on a copy of a slice from a DataFrame\n",
            "\n",
            "See the caveats in the documentation: https://pandas.pydata.org/pandas-docs/stable/user_guide/indexing.html#returning-a-view-versus-a-copy\n",
            "  del sys.path[0]\n"
          ],
          "name": "stderr"
        }
      ]
    },
    {
      "cell_type": "code",
      "metadata": {
        "id": "BjVl6nFLeipn",
        "colab_type": "code",
        "colab": {
          "base_uri": "https://localhost:8080/",
          "height": 34
        },
        "outputId": "d783f37f-92fe-4b8a-aad1-dd38eb721079"
      },
      "source": [
        "print('Выживших:', class3.Survived[class3.Survived == 1].count(), \\\n",
        "      'Погибших:', class3.Survived[class3.Survived == 0].count(), \\\n",
        "      '% выживших:', class3.Survived.mean())"
      ],
      "execution_count": 128,
      "outputs": [
        {
          "output_type": "stream",
          "text": [
            "Выживших: 136 Погибших: 578 % выживших: 0.19047619047619047\n"
          ],
          "name": "stdout"
        }
      ]
    },
    {
      "cell_type": "code",
      "metadata": {
        "id": "9T6te_voeyj1",
        "colab_type": "code",
        "colab": {}
      },
      "source": [
        "total = crew.append(class1).append(class2).append(class3)"
      ],
      "execution_count": 131,
      "outputs": []
    },
    {
      "cell_type": "code",
      "metadata": {
        "id": "0pc6RyI6e3VY",
        "colab_type": "code",
        "colab": {
          "base_uri": "https://localhost:8080/",
          "height": 34
        },
        "outputId": "103a76b3-91e0-4835-ee25-48086d5eb682"
      },
      "source": [
        "print('Выживших:', total.Survived[total.Survived == 1].count(), \\\n",
        "      'Погибших:', total.Survived[total.Survived == 0].count(), \\\n",
        "      '% выживших:', total.Survived.mean())"
      ],
      "execution_count": 133,
      "outputs": [
        {
          "output_type": "stream",
          "text": [
            "Выживших: 452 Погибших: 1024 % выживших: 0.3062330623306233\n"
          ],
          "name": "stdout"
        }
      ]
    },
    {
      "cell_type": "code",
      "metadata": {
        "id": "al5EGcj4g2k8",
        "colab_type": "code",
        "colab": {
          "base_uri": "https://localhost:8080/",
          "height": 372
        },
        "outputId": "757c6591-09ed-4ce3-fbea-1edd6c3b9de7"
      },
      "source": [
        "# Пытаемся разобраться с полом. По умолчанию назначаем всех мужчинами и пытаемся выбрать оттуда женщин\n",
        "total['Sex'] = 'Male'\n",
        "total.Sex[total.Name.str.find('Mrs') != -1] = 'Female'\n",
        "total.Sex[total.Name.str.find('Miss') != -1] = 'Female'\n",
        "total.Sex[total.Position == ' Stewardess'] = 'Female'\n",
        "total.Sex[total.Position == ' Matron'] = 'Female'\n"
      ],
      "execution_count": 156,
      "outputs": [
        {
          "output_type": "stream",
          "text": [
            "/usr/local/lib/python3.6/dist-packages/ipykernel_launcher.py:3: SettingWithCopyWarning: \n",
            "A value is trying to be set on a copy of a slice from a DataFrame\n",
            "\n",
            "See the caveats in the documentation: https://pandas.pydata.org/pandas-docs/stable/user_guide/indexing.html#returning-a-view-versus-a-copy\n",
            "  This is separate from the ipykernel package so we can avoid doing imports until\n",
            "/usr/local/lib/python3.6/dist-packages/ipykernel_launcher.py:4: SettingWithCopyWarning: \n",
            "A value is trying to be set on a copy of a slice from a DataFrame\n",
            "\n",
            "See the caveats in the documentation: https://pandas.pydata.org/pandas-docs/stable/user_guide/indexing.html#returning-a-view-versus-a-copy\n",
            "  after removing the cwd from sys.path.\n",
            "/usr/local/lib/python3.6/dist-packages/ipykernel_launcher.py:5: SettingWithCopyWarning: \n",
            "A value is trying to be set on a copy of a slice from a DataFrame\n",
            "\n",
            "See the caveats in the documentation: https://pandas.pydata.org/pandas-docs/stable/user_guide/indexing.html#returning-a-view-versus-a-copy\n",
            "  \"\"\"\n",
            "/usr/local/lib/python3.6/dist-packages/ipykernel_launcher.py:6: SettingWithCopyWarning: \n",
            "A value is trying to be set on a copy of a slice from a DataFrame\n",
            "\n",
            "See the caveats in the documentation: https://pandas.pydata.org/pandas-docs/stable/user_guide/indexing.html#returning-a-view-versus-a-copy\n",
            "  \n"
          ],
          "name": "stderr"
        }
      ]
    },
    {
      "cell_type": "code",
      "metadata": {
        "id": "0wRe5_XShXIy",
        "colab_type": "code",
        "colab": {
          "base_uri": "https://localhost:8080/",
          "height": 34
        },
        "outputId": "b2b79142-a1f2-48e6-d325-87b043dac58f"
      },
      "source": [
        "print('Мужчин:', total.Sex[total.Sex == 'Male'].count(), 'Женщин:', total.Sex[total.Sex == 'Female'].count())"
      ],
      "execution_count": 157,
      "outputs": [
        {
          "output_type": "stream",
          "text": [
            "Мужчин: 1079 Женщин: 397\n"
          ],
          "name": "stdout"
        }
      ]
    },
    {
      "cell_type": "code",
      "metadata": {
        "id": "QlKAkDVSjuDJ",
        "colab_type": "code",
        "colab": {
          "base_uri": "https://localhost:8080/",
          "height": 406
        },
        "outputId": "14719fcd-b1ab-45aa-f6e6-b61a697cabda"
      },
      "source": [
        "# неправдоподобные цифры. Надо искать дальше. Посмотрим на детей.\n",
        "total[total.Age < 16]\n",
        "# нет, тут все отлично, титулы указаны."
      ],
      "execution_count": 169,
      "outputs": [
        {
          "output_type": "execute_result",
          "data": {
            "text/html": [
              "<div>\n",
              "<style scoped>\n",
              "    .dataframe tbody tr th:only-of-type {\n",
              "        vertical-align: middle;\n",
              "    }\n",
              "\n",
              "    .dataframe tbody tr th {\n",
              "        vertical-align: top;\n",
              "    }\n",
              "\n",
              "    .dataframe thead th {\n",
              "        text-align: right;\n",
              "    }\n",
              "</style>\n",
              "<table border=\"1\" class=\"dataframe\">\n",
              "  <thead>\n",
              "    <tr style=\"text-align: right;\">\n",
              "      <th></th>\n",
              "      <th>Name</th>\n",
              "      <th>Position</th>\n",
              "      <th>Survived</th>\n",
              "      <th>Class</th>\n",
              "      <th>Age</th>\n",
              "      <th>Sex</th>\n",
              "    </tr>\n",
              "  </thead>\n",
              "  <tbody>\n",
              "    <tr>\n",
              "      <th>24</th>\n",
              "      <td>Miss Isobel Maude Cullen</td>\n",
              "      <td>Passenger</td>\n",
              "      <td>0</td>\n",
              "      <td>1st Class</td>\n",
              "      <td>6</td>\n",
              "      <td>Female</td>\n",
              "    </tr>\n",
              "    <tr>\n",
              "      <th>25</th>\n",
              "      <td>Master Albert Edward Cullen</td>\n",
              "      <td>Passenger</td>\n",
              "      <td>0</td>\n",
              "      <td>1st Class</td>\n",
              "      <td>2</td>\n",
              "      <td>Male</td>\n",
              "    </tr>\n",
              "    <tr>\n",
              "      <th>26</th>\n",
              "      <td>Miss Jennie P. Blythe, nurse</td>\n",
              "      <td>Passenger</td>\n",
              "      <td>1</td>\n",
              "      <td>1st Class</td>\n",
              "      <td>-1</td>\n",
              "      <td>Female</td>\n",
              "    </tr>\n",
              "    <tr>\n",
              "      <th>65</th>\n",
              "      <td>Miss Eileen Mullins</td>\n",
              "      <td>Passenger</td>\n",
              "      <td>0</td>\n",
              "      <td>1st Class</td>\n",
              "      <td>9</td>\n",
              "      <td>Female</td>\n",
              "    </tr>\n",
              "    <tr>\n",
              "      <th>68</th>\n",
              "      <td>Miss Josephine Helen O’Hara</td>\n",
              "      <td>Passenger</td>\n",
              "      <td>0</td>\n",
              "      <td>1st Class</td>\n",
              "      <td>10</td>\n",
              "      <td>Female</td>\n",
              "    </tr>\n",
              "    <tr>\n",
              "      <th>...</th>\n",
              "      <td>...</td>\n",
              "      <td>...</td>\n",
              "      <td>...</td>\n",
              "      <td>...</td>\n",
              "      <td>...</td>\n",
              "      <td>...</td>\n",
              "    </tr>\n",
              "    <tr>\n",
              "      <th>705</th>\n",
              "      <td>Mr Marczin Zaleva</td>\n",
              "      <td>Passenger</td>\n",
              "      <td>0</td>\n",
              "      <td>3rd Class</td>\n",
              "      <td>-1</td>\n",
              "      <td>Male</td>\n",
              "    </tr>\n",
              "    <tr>\n",
              "      <th>707</th>\n",
              "      <td>Mr A. Zsuffa</td>\n",
              "      <td>Passenger</td>\n",
              "      <td>0</td>\n",
              "      <td>3rd Class</td>\n",
              "      <td>-1</td>\n",
              "      <td>Male</td>\n",
              "    </tr>\n",
              "    <tr>\n",
              "      <th>710</th>\n",
              "      <td>Master Wladislaw Zuk</td>\n",
              "      <td>Passenger</td>\n",
              "      <td>0</td>\n",
              "      <td>3rd Class</td>\n",
              "      <td>6</td>\n",
              "      <td>Male</td>\n",
              "    </tr>\n",
              "    <tr>\n",
              "      <th>711</th>\n",
              "      <td>Miss Josefa Zuk</td>\n",
              "      <td>Passenger</td>\n",
              "      <td>0</td>\n",
              "      <td>3rd Class</td>\n",
              "      <td>5</td>\n",
              "      <td>Female</td>\n",
              "    </tr>\n",
              "    <tr>\n",
              "      <th>713</th>\n",
              "      <td>Mr Toader Zrotam</td>\n",
              "      <td>Passenger</td>\n",
              "      <td>0</td>\n",
              "      <td>3rd Class</td>\n",
              "      <td>-1</td>\n",
              "      <td>Male</td>\n",
              "    </tr>\n",
              "  </tbody>\n",
              "</table>\n",
              "<p>380 rows × 6 columns</p>\n",
              "</div>"
            ],
            "text/plain": [
              "                              Name   Position  Survived      Class  Age     Sex\n",
              "24       Miss Isobel Maude Cullen   Passenger         0  1st Class    6  Female\n",
              "25    Master Albert Edward Cullen   Passenger         0  1st Class    2    Male\n",
              "26    Miss Jennie P. Blythe, nurse  Passenger         1  1st Class   -1  Female\n",
              "65            Miss Eileen Mullins   Passenger         0  1st Class    9  Female\n",
              "68    Miss Josephine Helen O’Hara   Passenger         0  1st Class   10  Female\n",
              "..                             ...        ...       ...        ...  ...     ...\n",
              "705              Mr Marczin Zaleva  Passenger         0  3rd Class   -1    Male\n",
              "707                   Mr A. Zsuffa  Passenger         0  3rd Class   -1    Male\n",
              "710          Master Wladislaw Zuk   Passenger         0  3rd Class    6    Male\n",
              "711               Miss Josefa Zuk   Passenger         0  3rd Class    5  Female\n",
              "713               Mr Toader Zrotam  Passenger         0  3rd Class   -1    Male\n",
              "\n",
              "[380 rows x 6 columns]"
            ]
          },
          "metadata": {
            "tags": []
          },
          "execution_count": 169
        }
      ]
    },
    {
      "cell_type": "markdown",
      "metadata": {
        "id": "Tt-7GReIk8rP",
        "colab_type": "text"
      },
      "source": [
        "Читаем в википедии:\n",
        "\" Спасти удалось только 463 человека, среди которых оказалось только четверо детей (из 134 имевшихся на борту) и 42 женщины (из 279 имевшихся на борту) \"\n",
        "\n",
        "Но у нас получается даже больше. Но, возможно, девочек не относили к женщинам."
      ]
    },
    {
      "cell_type": "code",
      "metadata": {
        "id": "POe8X_WEkiVz",
        "colab_type": "code",
        "colab": {
          "base_uri": "https://localhost:8080/",
          "height": 34
        },
        "outputId": "dcdf2b36-ffa7-458e-b3f2-eafea6882449"
      },
      "source": [
        "# Почти точное попадание! Ура! Можно считать датасет удался!\n",
        "total.Sex[(total.Sex == 'Female') & (total.Age > 18)].count()"
      ],
      "execution_count": 167,
      "outputs": [
        {
          "output_type": "execute_result",
          "data": {
            "text/plain": [
              "280"
            ]
          },
          "metadata": {
            "tags": []
          },
          "execution_count": 167
        }
      ]
    },
    {
      "cell_type": "code",
      "metadata": {
        "id": "X3Tkdyyifvsz",
        "colab_type": "code",
        "colab": {}
      },
      "source": [
        "# таким образом у нас получился общий датасет по всем категориям. \n",
        "# держим в уме пропущенные значения в Age == -1\n",
        "total.to_csv('/content/drive/My Drive/disasters/emp_ireland.csv', index=False)"
      ],
      "execution_count": 171,
      "outputs": []
    }
  ]
}
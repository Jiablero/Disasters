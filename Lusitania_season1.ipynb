{
  "nbformat": 4,
  "nbformat_minor": 0,
  "metadata": {
    "colab": {
      "name": "Lusitania_season1.ipynb",
      "provenance": [],
      "collapsed_sections": [],
      "mount_file_id": "1qN48SZe0RwcUVJM8UYo21-iz-8jw9kN5",
      "authorship_tag": "ABX9TyNcjwHeGavMzsytUYiv4r3M",
      "include_colab_link": true
    },
    "kernelspec": {
      "name": "python3",
      "display_name": "Python 3"
    }
  },
  "cells": [
    {
      "cell_type": "markdown",
      "metadata": {
        "id": "view-in-github",
        "colab_type": "text"
      },
      "source": [
        "<a href=\"https://colab.research.google.com/github/Jiablero/Disasters/blob/master/Lusitania_season1.ipynb\" target=\"_parent\"><img src=\"https://colab.research.google.com/assets/colab-badge.svg\" alt=\"Open In Colab\"/></a>"
      ]
    },
    {
      "cell_type": "markdown",
      "metadata": {
        "id": "u3unmrhVaDAh",
        "colab_type": "text"
      },
      "source": [
        "Подготовка данных о пасажирах и команде \"Луизитании\", находившихся на борту во время гибели судна. \n",
        "\n",
        "Данные взяты отсюда: https://www.rmslusitania.info/multimedia/downloads/"
      ]
    },
    {
      "cell_type": "code",
      "metadata": {
        "id": "wpCh4Q57acFN",
        "colab_type": "code",
        "colab": {}
      },
      "source": [
        "import pandas as pd"
      ],
      "execution_count": 1,
      "outputs": []
    },
    {
      "cell_type": "code",
      "metadata": {
        "id": "I8E7YdapafXO",
        "colab_type": "code",
        "colab": {}
      },
      "source": [
        "data = pd.read_excel('/content/drive/My Drive/disasters/lui_completemanifest.xls',  index_col = False)"
      ],
      "execution_count": 5,
      "outputs": []
    },
    {
      "cell_type": "code",
      "metadata": {
        "id": "Cx_P3wkCbOjq",
        "colab_type": "code",
        "colab": {
          "base_uri": "https://localhost:8080/",
          "height": 197
        },
        "outputId": "e439b18d-feb2-4a24-fd57-38e2c86aa530"
      },
      "source": [
        "data.groupby('Fate').aggregate({'Fate': 'count'})"
      ],
      "execution_count": 22,
      "outputs": [
        {
          "output_type": "execute_result",
          "data": {
            "text/html": [
              "<div>\n",
              "<style scoped>\n",
              "    .dataframe tbody tr th:only-of-type {\n",
              "        vertical-align: middle;\n",
              "    }\n",
              "\n",
              "    .dataframe tbody tr th {\n",
              "        vertical-align: top;\n",
              "    }\n",
              "\n",
              "    .dataframe thead th {\n",
              "        text-align: right;\n",
              "    }\n",
              "</style>\n",
              "<table border=\"1\" class=\"dataframe\">\n",
              "  <thead>\n",
              "    <tr style=\"text-align: right;\">\n",
              "      <th></th>\n",
              "      <th>Fate</th>\n",
              "    </tr>\n",
              "    <tr>\n",
              "      <th>Fate</th>\n",
              "      <th></th>\n",
              "    </tr>\n",
              "  </thead>\n",
              "  <tbody>\n",
              "    <tr>\n",
              "      <th>Lost</th>\n",
              "      <td>1193</td>\n",
              "    </tr>\n",
              "    <tr>\n",
              "      <th>Not on board</th>\n",
              "      <td>1</td>\n",
              "    </tr>\n",
              "    <tr>\n",
              "      <th>Saved</th>\n",
              "      <td>763</td>\n",
              "    </tr>\n",
              "    <tr>\n",
              "      <th>Saved (died from trauma)</th>\n",
              "      <td>4</td>\n",
              "    </tr>\n",
              "  </tbody>\n",
              "</table>\n",
              "</div>"
            ],
            "text/plain": [
              "                          Fate\n",
              "Fate                          \n",
              "Lost                      1193\n",
              "Not on board                 1\n",
              "Saved                      763\n",
              "Saved (died from trauma)     4"
            ]
          },
          "metadata": {
            "tags": []
          },
          "execution_count": 22
        }
      ]
    },
    {
      "cell_type": "code",
      "metadata": {
        "id": "UwltM5XtdHBJ",
        "colab_type": "code",
        "colab": {}
      },
      "source": [
        "data = data.drop(['Department/Class', 'Citizenship', 'Status', 'City', 'County', 'State', 'Country', 'Lifeboat', 'Rescue Vessel', 'Body No.', 'Cabin No.', 'Traveling Companions and other notes', 'Ticket No.', 'Value', 'Adult/Minor'], axis=1)"
      ],
      "execution_count": 32,
      "outputs": []
    },
    {
      "cell_type": "code",
      "metadata": {
        "id": "-8upGcbmjvVq",
        "colab_type": "code",
        "colab": {
          "base_uri": "https://localhost:8080/",
          "height": 176
        },
        "outputId": "67dc8fe8-20ca-42ec-ef24-1dfd6fa7eda1"
      },
      "source": [
        "data.isnull().sum()"
      ],
      "execution_count": 38,
      "outputs": [
        {
          "output_type": "execute_result",
          "data": {
            "text/plain": [
              "Family name          0\n",
              "Title                0\n",
              "Personal name        3\n",
              "Fate                 0\n",
              "Age                653\n",
              "Passenger/Crew       0\n",
              "Position          1270\n",
              "Sex                  0\n",
              "dtype: int64"
            ]
          },
          "metadata": {
            "tags": []
          },
          "execution_count": 38
        }
      ]
    },
    {
      "cell_type": "code",
      "metadata": {
        "id": "y0ef7VAakhGA",
        "colab_type": "code",
        "colab": {
          "base_uri": "https://localhost:8080/",
          "height": 107
        },
        "outputId": "aabe6e73-d3c1-40db-833b-dc7b6ec83b30"
      },
      "source": [
        "data[(data.Position.isna()) & (data['Passenger/Crew'] == 'Crew')]\n",
        "# остальные с Position = NAN - пассажиры"
      ],
      "execution_count": 44,
      "outputs": [
        {
          "output_type": "execute_result",
          "data": {
            "text/html": [
              "<div>\n",
              "<style scoped>\n",
              "    .dataframe tbody tr th:only-of-type {\n",
              "        vertical-align: middle;\n",
              "    }\n",
              "\n",
              "    .dataframe tbody tr th {\n",
              "        vertical-align: top;\n",
              "    }\n",
              "\n",
              "    .dataframe thead th {\n",
              "        text-align: right;\n",
              "    }\n",
              "</style>\n",
              "<table border=\"1\" class=\"dataframe\">\n",
              "  <thead>\n",
              "    <tr style=\"text-align: right;\">\n",
              "      <th></th>\n",
              "      <th>Family name</th>\n",
              "      <th>Title</th>\n",
              "      <th>Personal name</th>\n",
              "      <th>Fate</th>\n",
              "      <th>Age</th>\n",
              "      <th>Passenger/Crew</th>\n",
              "      <th>Position</th>\n",
              "      <th>Sex</th>\n",
              "    </tr>\n",
              "  </thead>\n",
              "  <tbody>\n",
              "    <tr>\n",
              "      <th>0</th>\n",
              "      <td>CAMERON</td>\n",
              "      <td>Mr.</td>\n",
              "      <td>Charles W.</td>\n",
              "      <td>Lost</td>\n",
              "      <td>38</td>\n",
              "      <td>Crew</td>\n",
              "      <td>NaN</td>\n",
              "      <td>Male</td>\n",
              "    </tr>\n",
              "    <tr>\n",
              "      <th>1</th>\n",
              "      <td>CARR-JONES</td>\n",
              "      <td>Mr.</td>\n",
              "      <td>E.</td>\n",
              "      <td>Lost</td>\n",
              "      <td>37</td>\n",
              "      <td>Crew</td>\n",
              "      <td>NaN</td>\n",
              "      <td>Male</td>\n",
              "    </tr>\n",
              "  </tbody>\n",
              "</table>\n",
              "</div>"
            ],
            "text/plain": [
              "  Family name Title Personal name  Fate Age Passenger/Crew Position   Sex\n",
              "0     CAMERON   Mr.    Charles W.  Lost  38           Crew      NaN  Male\n",
              "1  CARR-JONES   Mr.            E.  Lost  37           Crew      NaN  Male"
            ]
          },
          "metadata": {
            "tags": []
          },
          "execution_count": 44
        }
      ]
    }
  ]
}
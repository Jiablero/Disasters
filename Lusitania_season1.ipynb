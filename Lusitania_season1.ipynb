{
  "nbformat": 4,
  "nbformat_minor": 0,
  "metadata": {
    "colab": {
      "name": "Lusitania_season1.ipynb",
      "provenance": [],
      "collapsed_sections": [],
      "mount_file_id": "1qN48SZe0RwcUVJM8UYo21-iz-8jw9kN5",
      "authorship_tag": "ABX9TyP8p5fq3Cc/N8uEHnt/3PnF",
      "include_colab_link": true
    },
    "kernelspec": {
      "name": "python3",
      "display_name": "Python 3"
    }
  },
  "cells": [
    {
      "cell_type": "markdown",
      "metadata": {
        "id": "view-in-github",
        "colab_type": "text"
      },
      "source": [
        "<a href=\"https://colab.research.google.com/github/Jiablero/Disasters/blob/master/Lusitania_season1.ipynb\" target=\"_parent\"><img src=\"https://colab.research.google.com/assets/colab-badge.svg\" alt=\"Open In Colab\"/></a>"
      ]
    },
    {
      "cell_type": "markdown",
      "metadata": {
        "id": "u3unmrhVaDAh",
        "colab_type": "text"
      },
      "source": [
        "Подготовка данных о пасажирах и команде \"Луизитании\", находившихся на борту во время гибели судна. \n",
        "\n",
        "Данные взяты отсюда: https://www.rmslusitania.info/multimedia/downloads/"
      ]
    },
    {
      "cell_type": "code",
      "metadata": {
        "id": "wpCh4Q57acFN",
        "colab_type": "code",
        "colab": {}
      },
      "source": [
        "import pandas as pd\n",
        "import numpy as np"
      ],
      "execution_count": 55,
      "outputs": []
    },
    {
      "cell_type": "code",
      "metadata": {
        "id": "I8E7YdapafXO",
        "colab_type": "code",
        "colab": {}
      },
      "source": [
        "data = pd.read_excel('/content/drive/My Drive/disasters/lui_completemanifest.xls',  index_col = False)"
      ],
      "execution_count": 2,
      "outputs": []
    },
    {
      "cell_type": "code",
      "metadata": {
        "id": "Cx_P3wkCbOjq",
        "colab_type": "code",
        "colab": {
          "base_uri": "https://localhost:8080/",
          "height": 197
        },
        "outputId": "64a7e6ef-49e3-4d59-e1a1-f38b42d2339f"
      },
      "source": [
        "data.groupby('Fate').aggregate({'Fate': 'count'})"
      ],
      "execution_count": 3,
      "outputs": [
        {
          "output_type": "execute_result",
          "data": {
            "text/html": [
              "<div>\n",
              "<style scoped>\n",
              "    .dataframe tbody tr th:only-of-type {\n",
              "        vertical-align: middle;\n",
              "    }\n",
              "\n",
              "    .dataframe tbody tr th {\n",
              "        vertical-align: top;\n",
              "    }\n",
              "\n",
              "    .dataframe thead th {\n",
              "        text-align: right;\n",
              "    }\n",
              "</style>\n",
              "<table border=\"1\" class=\"dataframe\">\n",
              "  <thead>\n",
              "    <tr style=\"text-align: right;\">\n",
              "      <th></th>\n",
              "      <th>Fate</th>\n",
              "    </tr>\n",
              "    <tr>\n",
              "      <th>Fate</th>\n",
              "      <th></th>\n",
              "    </tr>\n",
              "  </thead>\n",
              "  <tbody>\n",
              "    <tr>\n",
              "      <th>Lost</th>\n",
              "      <td>1193</td>\n",
              "    </tr>\n",
              "    <tr>\n",
              "      <th>Not on board</th>\n",
              "      <td>1</td>\n",
              "    </tr>\n",
              "    <tr>\n",
              "      <th>Saved</th>\n",
              "      <td>763</td>\n",
              "    </tr>\n",
              "    <tr>\n",
              "      <th>Saved (died from trauma)</th>\n",
              "      <td>4</td>\n",
              "    </tr>\n",
              "  </tbody>\n",
              "</table>\n",
              "</div>"
            ],
            "text/plain": [
              "                          Fate\n",
              "Fate                          \n",
              "Lost                      1193\n",
              "Not on board                 1\n",
              "Saved                      763\n",
              "Saved (died from trauma)     4"
            ]
          },
          "metadata": {
            "tags": []
          },
          "execution_count": 3
        }
      ]
    },
    {
      "cell_type": "code",
      "metadata": {
        "id": "UwltM5XtdHBJ",
        "colab_type": "code",
        "colab": {}
      },
      "source": [
        "data = data.drop(['Department/Class', 'Citizenship', 'Status', 'City', 'County', 'State', 'Country', 'Lifeboat', 'Rescue Vessel', 'Body No.', 'Cabin No.', 'Traveling Companions and other notes', 'Ticket No.', 'Value', 'Adult/Minor'], axis=1)"
      ],
      "execution_count": 4,
      "outputs": []
    },
    {
      "cell_type": "code",
      "metadata": {
        "id": "-8upGcbmjvVq",
        "colab_type": "code",
        "colab": {
          "base_uri": "https://localhost:8080/",
          "height": 176
        },
        "outputId": "0f832130-2e78-4ebc-8e16-b2cdacc36c8b"
      },
      "source": [
        "data.isnull().sum()"
      ],
      "execution_count": 5,
      "outputs": [
        {
          "output_type": "execute_result",
          "data": {
            "text/plain": [
              "Family name          0\n",
              "Title                0\n",
              "Personal name        3\n",
              "Fate                 0\n",
              "Age                653\n",
              "Passenger/Crew       0\n",
              "Position          1270\n",
              "Sex                  0\n",
              "dtype: int64"
            ]
          },
          "metadata": {
            "tags": []
          },
          "execution_count": 5
        }
      ]
    },
    {
      "cell_type": "code",
      "metadata": {
        "id": "y0ef7VAakhGA",
        "colab_type": "code",
        "colab": {}
      },
      "source": [
        "data.Position[(data.Position.isna()) & (data['Passenger/Crew'] == 'Crew')] = 'Crew'\n",
        "# остальные с Position = NAN - пассажиры\n",
        "data.Position = data.Position.fillna('Passenger')"
      ],
      "execution_count": 6,
      "outputs": []
    },
    {
      "cell_type": "code",
      "metadata": {
        "id": "Q45DVgFIHUcJ",
        "colab_type": "code",
        "colab": {}
      },
      "source": [
        "data.Age = data.Age.astype(str).str.extract('(-?[0-9]+)').fillna(-1).astype(int)"
      ],
      "execution_count": 7,
      "outputs": []
    },
    {
      "cell_type": "code",
      "metadata": {
        "id": "hfRPGThzPWVX",
        "colab_type": "code",
        "colab": {}
      },
      "source": [
        "# Объединяем Имя, Фамилию и еще какое-то имя в одну колонку\n",
        "data['Name'] = data.Title + ' ' + data['Personal name'] + ' ' + data['Family name']"
      ],
      "execution_count": 8,
      "outputs": []
    },
    {
      "cell_type": "code",
      "metadata": {
        "id": "X2ndBsj-SgW1",
        "colab_type": "code",
        "colab": {}
      },
      "source": [
        "data = data.drop(['Family name', 'Title', 'Personal name'], axis = 1)"
      ],
      "execution_count": 9,
      "outputs": []
    },
    {
      "cell_type": "code",
      "metadata": {
        "id": "Rkz4V0BHThsa",
        "colab_type": "code",
        "colab": {}
      },
      "source": [
        "data = data[['Name', 'Position', 'Fate', 'Age','Sex']].rename({'Fate': 'Survived'}, axis = 1)"
      ],
      "execution_count": 18,
      "outputs": []
    },
    {
      "cell_type": "code",
      "metadata": {
        "id": "BlvOZSYkDcnt",
        "colab_type": "code",
        "colab": {
          "base_uri": "https://localhost:8080/",
          "height": 194
        },
        "outputId": "2a6ed0dd-1ac2-4762-eb01-fa7145c4898b"
      },
      "source": [
        "# Приводим Survived в тот же вид как в других датасетах\n",
        "data.Survived[data.Survived == 'Saved'] = 1\n",
        "data.Survived[data.Survived != 1 ] = 0"
      ],
      "execution_count": 25,
      "outputs": [
        {
          "output_type": "stream",
          "text": [
            "/usr/local/lib/python3.6/dist-packages/ipykernel_launcher.py:1: SettingWithCopyWarning: \n",
            "A value is trying to be set on a copy of a slice from a DataFrame\n",
            "\n",
            "See the caveats in the documentation: https://pandas.pydata.org/pandas-docs/stable/user_guide/indexing.html#returning-a-view-versus-a-copy\n",
            "  \"\"\"Entry point for launching an IPython kernel.\n",
            "/usr/local/lib/python3.6/dist-packages/ipykernel_launcher.py:2: SettingWithCopyWarning: \n",
            "A value is trying to be set on a copy of a slice from a DataFrame\n",
            "\n",
            "See the caveats in the documentation: https://pandas.pydata.org/pandas-docs/stable/user_guide/indexing.html#returning-a-view-versus-a-copy\n",
            "  \n"
          ],
          "name": "stderr"
        }
      ]
    },
    {
      "cell_type": "code",
      "metadata": {
        "id": "bHGWkmY1EBAi",
        "colab_type": "code",
        "colab": {
          "base_uri": "https://localhost:8080/",
          "height": 406
        },
        "outputId": "da8f0c7c-bee2-4d19-861c-43885d8bfdeb"
      },
      "source": [
        "# Смотрим какие позиции есть, чтобы сделать классы\n",
        "data.groupby('Position').agg({'Position': 'count'}).rename({'Position': 'Count'}, axis=1).reset_index().sort_values(by = 'Count', ascending=False)"
      ],
      "execution_count": 54,
      "outputs": [
        {
          "output_type": "execute_result",
          "data": {
            "text/html": [
              "<div>\n",
              "<style scoped>\n",
              "    .dataframe tbody tr th:only-of-type {\n",
              "        vertical-align: middle;\n",
              "    }\n",
              "\n",
              "    .dataframe tbody tr th {\n",
              "        vertical-align: top;\n",
              "    }\n",
              "\n",
              "    .dataframe thead th {\n",
              "        text-align: right;\n",
              "    }\n",
              "</style>\n",
              "<table border=\"1\" class=\"dataframe\">\n",
              "  <thead>\n",
              "    <tr style=\"text-align: right;\">\n",
              "      <th></th>\n",
              "      <th>Position</th>\n",
              "      <th>Count</th>\n",
              "    </tr>\n",
              "  </thead>\n",
              "  <tbody>\n",
              "    <tr>\n",
              "      <th>95</th>\n",
              "      <td>Passenger</td>\n",
              "      <td>1268</td>\n",
              "    </tr>\n",
              "    <tr>\n",
              "      <th>56</th>\n",
              "      <td>Fireman</td>\n",
              "      <td>145</td>\n",
              "    </tr>\n",
              "    <tr>\n",
              "      <th>145</th>\n",
              "      <td>Trimmer</td>\n",
              "      <td>99</td>\n",
              "    </tr>\n",
              "    <tr>\n",
              "      <th>62</th>\n",
              "      <td>First Waiter</td>\n",
              "      <td>53</td>\n",
              "    </tr>\n",
              "    <tr>\n",
              "      <th>0</th>\n",
              "      <td>Able-Bodied Seaman</td>\n",
              "      <td>42</td>\n",
              "    </tr>\n",
              "    <tr>\n",
              "      <th>...</th>\n",
              "      <td>...</td>\n",
              "      <td>...</td>\n",
              "    </tr>\n",
              "    <tr>\n",
              "      <th>54</th>\n",
              "      <td>Extra Third Cook</td>\n",
              "      <td>1</td>\n",
              "    </tr>\n",
              "    <tr>\n",
              "      <th>53</th>\n",
              "      <td>Extra Third Baker</td>\n",
              "      <td>1</td>\n",
              "    </tr>\n",
              "    <tr>\n",
              "      <th>52</th>\n",
              "      <td>Extra Second Cook</td>\n",
              "      <td>1</td>\n",
              "    </tr>\n",
              "    <tr>\n",
              "      <th>51</th>\n",
              "      <td>Extra Second Baker</td>\n",
              "      <td>1</td>\n",
              "    </tr>\n",
              "    <tr>\n",
              "      <th>76</th>\n",
              "      <td>Junior 5th Engineer</td>\n",
              "      <td>1</td>\n",
              "    </tr>\n",
              "  </tbody>\n",
              "</table>\n",
              "<p>152 rows × 2 columns</p>\n",
              "</div>"
            ],
            "text/plain": [
              "                Position  Count\n",
              "95             Passenger   1268\n",
              "56               Fireman    145\n",
              "145              Trimmer     99\n",
              "62          First Waiter     53\n",
              "0     Able-Bodied Seaman     42\n",
              "..                   ...    ...\n",
              "54      Extra Third Cook      1\n",
              "53     Extra Third Baker      1\n",
              "52     Extra Second Cook      1\n",
              "51    Extra Second Baker      1\n",
              "76   Junior 5th Engineer      1\n",
              "\n",
              "[152 rows x 2 columns]"
            ]
          },
          "metadata": {
            "tags": []
          },
          "execution_count": 54
        }
      ]
    },
    {
      "cell_type": "code",
      "metadata": {
        "id": "bUOBO9HfG6YZ",
        "colab_type": "code",
        "colab": {}
      },
      "source": [
        "# классы пассажиров у нас не указаны, назовем всех пассажиров 'no Class', а все остальные будут 'Crew'\n",
        "data['Class'] = np.where(data.Position == 'Passenger', 'no Class', 'Crew')"
      ],
      "execution_count": 60,
      "outputs": []
    },
    {
      "cell_type": "code",
      "metadata": {
        "id": "_C286u7CHfbr",
        "colab_type": "code",
        "colab": {}
      },
      "source": [
        "data = data[['Name', 'Position', 'Survived', 'Class', 'Age','Sex']]"
      ],
      "execution_count": 61,
      "outputs": []
    },
    {
      "cell_type": "code",
      "metadata": {
        "id": "m3QgQ6IBHyPh",
        "colab_type": "code",
        "colab": {
          "base_uri": "https://localhost:8080/",
          "height": 34
        },
        "outputId": "2c6520db-16a4-4d50-98d9-7643b3549a69"
      },
      "source": [
        "print('Мужчин:', data.Sex[data.Sex == 'Male'].count(), 'Женщин:', data.Sex[data.Sex == 'Female'].count())"
      ],
      "execution_count": 76,
      "outputs": [
        {
          "output_type": "stream",
          "text": [
            "Мужчин: 1443 Женщин: 518\n"
          ],
          "name": "stdout"
        }
      ]
    },
    {
      "cell_type": "code",
      "metadata": {
        "id": "BI4_ZH09Jf-S",
        "colab_type": "code",
        "colab": {
          "base_uri": "https://localhost:8080/",
          "height": 34
        },
        "outputId": "22208076-4c79-444a-cab1-ade3823e5495"
      },
      "source": [
        "print('Выживших:', data.Survived[data.Survived == 1].count(), \\\n",
        "      'Погибших:', data.Survived[data.Survived == 0].count(), \\\n",
        "      '% выживших:', data.Survived.mean())"
      ],
      "execution_count": 77,
      "outputs": [
        {
          "output_type": "stream",
          "text": [
            "Выживших: 763 Погибших: 1198 % выживших: 0.38908720040795514\n"
          ],
          "name": "stdout"
        }
      ]
    },
    {
      "cell_type": "code",
      "metadata": {
        "id": "BalRRjBHJpMW",
        "colab_type": "code",
        "colab": {}
      },
      "source": [
        "data.to_csv('/content/drive/My Drive/disasters/lusitania.csv', index=False)"
      ],
      "execution_count": 78,
      "outputs": []
    },
    {
      "cell_type": "code",
      "metadata": {
        "id": "djUVh-HyJ0ft",
        "colab_type": "code",
        "colab": {
          "base_uri": "https://localhost:8080/",
          "height": 406
        },
        "outputId": "c02dce75-97e5-4da7-83dd-2704fe58de1b"
      },
      "source": [
        "data"
      ],
      "execution_count": 79,
      "outputs": [
        {
          "output_type": "execute_result",
          "data": {
            "text/html": [
              "<div>\n",
              "<style scoped>\n",
              "    .dataframe tbody tr th:only-of-type {\n",
              "        vertical-align: middle;\n",
              "    }\n",
              "\n",
              "    .dataframe tbody tr th {\n",
              "        vertical-align: top;\n",
              "    }\n",
              "\n",
              "    .dataframe thead th {\n",
              "        text-align: right;\n",
              "    }\n",
              "</style>\n",
              "<table border=\"1\" class=\"dataframe\">\n",
              "  <thead>\n",
              "    <tr style=\"text-align: right;\">\n",
              "      <th></th>\n",
              "      <th>Name</th>\n",
              "      <th>Position</th>\n",
              "      <th>Survived</th>\n",
              "      <th>Class</th>\n",
              "      <th>Age</th>\n",
              "      <th>Sex</th>\n",
              "    </tr>\n",
              "  </thead>\n",
              "  <tbody>\n",
              "    <tr>\n",
              "      <th>0</th>\n",
              "      <td>Mr. Charles W. CAMERON</td>\n",
              "      <td>Crew</td>\n",
              "      <td>0</td>\n",
              "      <td>Crew</td>\n",
              "      <td>38</td>\n",
              "      <td>Male</td>\n",
              "    </tr>\n",
              "    <tr>\n",
              "      <th>1</th>\n",
              "      <td>Mr. E. CARR-JONES</td>\n",
              "      <td>Crew</td>\n",
              "      <td>0</td>\n",
              "      <td>Crew</td>\n",
              "      <td>37</td>\n",
              "      <td>Male</td>\n",
              "    </tr>\n",
              "    <tr>\n",
              "      <th>2</th>\n",
              "      <td>Mr. Edward DRAKEFORD</td>\n",
              "      <td>Violin</td>\n",
              "      <td>1</td>\n",
              "      <td>Crew</td>\n",
              "      <td>30</td>\n",
              "      <td>Male</td>\n",
              "    </tr>\n",
              "    <tr>\n",
              "      <th>3</th>\n",
              "      <td>Mr. Handel HAWKINS</td>\n",
              "      <td>Cello</td>\n",
              "      <td>1</td>\n",
              "      <td>Crew</td>\n",
              "      <td>25</td>\n",
              "      <td>Male</td>\n",
              "    </tr>\n",
              "    <tr>\n",
              "      <th>4</th>\n",
              "      <td>Mr. John William HEMINGWAY</td>\n",
              "      <td>Double Bass</td>\n",
              "      <td>1</td>\n",
              "      <td>Crew</td>\n",
              "      <td>27</td>\n",
              "      <td>Male</td>\n",
              "    </tr>\n",
              "    <tr>\n",
              "      <th>...</th>\n",
              "      <td>...</td>\n",
              "      <td>...</td>\n",
              "      <td>...</td>\n",
              "      <td>...</td>\n",
              "      <td>...</td>\n",
              "      <td>...</td>\n",
              "    </tr>\n",
              "    <tr>\n",
              "      <th>1956</th>\n",
              "      <td>Mr.  Alfred WOOD</td>\n",
              "      <td>Saloon Cabin Bed Steward</td>\n",
              "      <td>1</td>\n",
              "      <td>Crew</td>\n",
              "      <td>-1</td>\n",
              "      <td>Male</td>\n",
              "    </tr>\n",
              "    <tr>\n",
              "      <th>1957</th>\n",
              "      <td>Mr.  Wallace Edkin WOOD</td>\n",
              "      <td>Barkeeper, Smokeroom Second Cabin</td>\n",
              "      <td>0</td>\n",
              "      <td>Crew</td>\n",
              "      <td>-1</td>\n",
              "      <td>Male</td>\n",
              "    </tr>\n",
              "    <tr>\n",
              "      <th>1958</th>\n",
              "      <td>Master (?) Harold Joseph WRIGHT</td>\n",
              "      <td>Steward's Boy</td>\n",
              "      <td>0</td>\n",
              "      <td>Crew</td>\n",
              "      <td>-1</td>\n",
              "      <td>Male</td>\n",
              "    </tr>\n",
              "    <tr>\n",
              "      <th>1959</th>\n",
              "      <td>Master George WYNNE</td>\n",
              "      <td>Assistant Cook</td>\n",
              "      <td>1</td>\n",
              "      <td>Crew</td>\n",
              "      <td>16</td>\n",
              "      <td>Male</td>\n",
              "    </tr>\n",
              "    <tr>\n",
              "      <th>1960</th>\n",
              "      <td>Mr.  Joseph Dominic WYNNE</td>\n",
              "      <td>Sculleryman</td>\n",
              "      <td>0</td>\n",
              "      <td>Crew</td>\n",
              "      <td>37</td>\n",
              "      <td>Male</td>\n",
              "    </tr>\n",
              "  </tbody>\n",
              "</table>\n",
              "<p>1961 rows × 6 columns</p>\n",
              "</div>"
            ],
            "text/plain": [
              "                                 Name  ...   Sex\n",
              "0              Mr. Charles W. CAMERON  ...  Male\n",
              "1                   Mr. E. CARR-JONES  ...  Male\n",
              "2                Mr. Edward DRAKEFORD  ...  Male\n",
              "3                  Mr. Handel HAWKINS  ...  Male\n",
              "4          Mr. John William HEMINGWAY  ...  Male\n",
              "...                               ...  ...   ...\n",
              "1956                 Mr.  Alfred WOOD  ...  Male\n",
              "1957          Mr.  Wallace Edkin WOOD  ...  Male\n",
              "1958  Master (?) Harold Joseph WRIGHT  ...  Male\n",
              "1959              Master George WYNNE  ...  Male\n",
              "1960        Mr.  Joseph Dominic WYNNE  ...  Male\n",
              "\n",
              "[1961 rows x 6 columns]"
            ]
          },
          "metadata": {
            "tags": []
          },
          "execution_count": 79
        }
      ]
    }
  ]
}